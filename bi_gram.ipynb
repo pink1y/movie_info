{
 "cells": [
  {
   "cell_type": "code",
   "execution_count": 1,
   "metadata": {},
   "outputs": [],
   "source": [
    "# get url of download link\n",
    "from pythonopensubtitles.opensubtitles import OpenSubtitles\n",
    "import urllib.request\n",
    "import os\n",
    "from os import listdir\n",
    "from os.path import isfile, join\n",
    "import zipfile\n",
    "from opencc import OpenCC\n",
    "import pysrt\n",
    "import json\n",
    "import concurrent.futures\n",
    "\n",
    "# nlp \n",
    "from pycorenlp import StanfordCoreNLP\n",
    "import pprint\n",
    "from __future__ import unicode_literals\n",
    "import sys\n",
    "sys.path.append(\"../\")\n",
    "\n",
    "import jieba\n",
    "import jieba.posseg\n",
    "import jieba.analyse"
   ]
  },
  {
   "cell_type": "code",
   "execution_count": 2,
   "metadata": {},
   "outputs": [
    {
     "ename": "NameError",
     "evalue": "name 'mvs' is not defined",
     "output_type": "error",
     "traceback": [
      "\u001b[0;31m---------------------------------------------------------------------------\u001b[0m",
      "\u001b[0;31mNameError\u001b[0m                                 Traceback (most recent call last)",
      "\u001b[0;32m<ipython-input-2-c70f0e30fc3a>\u001b[0m in \u001b[0;36m<module>\u001b[0;34m()\u001b[0m\n\u001b[1;32m      1\u001b[0m \u001b[0mencode\u001b[0m \u001b[0;34m=\u001b[0m \u001b[0;34m'UTF-8'\u001b[0m\u001b[0;34m\u001b[0m\u001b[0m\n\u001b[0;32m----> 2\u001b[0;31m \u001b[0;32mfor\u001b[0m \u001b[0mimdb\u001b[0m\u001b[0;34m,\u001b[0m \u001b[0mmv\u001b[0m \u001b[0;32min\u001b[0m \u001b[0mmvs\u001b[0m\u001b[0;34m.\u001b[0m\u001b[0mitems\u001b[0m\u001b[0;34m(\u001b[0m\u001b[0;34m)\u001b[0m\u001b[0;34m:\u001b[0m\u001b[0;34m\u001b[0m\u001b[0m\n\u001b[0m\u001b[1;32m      3\u001b[0m     \u001b[0mprint\u001b[0m\u001b[0;34m(\u001b[0m\u001b[0mimdb\u001b[0m \u001b[0;34m+\u001b[0m \u001b[0;34m'====='\u001b[0m\u001b[0;34m)\u001b[0m\u001b[0;34m\u001b[0m\u001b[0m\n\u001b[1;32m      4\u001b[0m     \u001b[0mmvs\u001b[0m\u001b[0;34m[\u001b[0m\u001b[0mimdb\u001b[0m\u001b[0;34m]\u001b[0m\u001b[0;34m[\u001b[0m\u001b[0;34m'subs'\u001b[0m\u001b[0;34m]\u001b[0m \u001b[0;34m=\u001b[0m \u001b[0;34m[\u001b[0m\u001b[0;34m]\u001b[0m\u001b[0;34m\u001b[0m\u001b[0m\n\u001b[1;32m      5\u001b[0m     \u001b[0;32mif\u001b[0m \u001b[0mmv\u001b[0m\u001b[0;34m[\u001b[0m\u001b[0;34m'srt_name'\u001b[0m\u001b[0;34m]\u001b[0m \u001b[0;34m!=\u001b[0m \u001b[0;34m''\u001b[0m \u001b[0;32mand\u001b[0m \u001b[0mmv\u001b[0m\u001b[0;34m[\u001b[0m\u001b[0;34m'srt_name'\u001b[0m\u001b[0;34m]\u001b[0m \u001b[0;34m!=\u001b[0m \u001b[0;34m'unknown srt name'\u001b[0m\u001b[0;34m:\u001b[0m\u001b[0;34m\u001b[0m\u001b[0m\n",
      "\u001b[0;31mNameError\u001b[0m: name 'mvs' is not defined"
     ]
    }
   ],
   "source": [
    "encode = 'UTF-8'\n",
    "for imdb, mv in mvs.items():\n",
    "    print(imdb + '=====')\n",
    "    mvs[imdb]['subs'] = []\n",
    "    if mv['srt_name'] != '' and mv['srt_name'] != 'unknown srt name':\n",
    "        if mv['srt_info'][2] != 0:\n",
    "            subs = pysrt.open(dw_path + imdb + '/' + mv['srt_name'], encoding = mv['srt_info'][2])\n",
    "        else:\n",
    "            subs = pysrt.open(dw_path + imdb + '/' + mv['srt_name'], encoding = encode)\n",
    "        \n",
    "        for index, sub in enumerate(subs):\n",
    "            print(sub.text)\n",
    "            mvs[imdb]['subs'].append([sub.text, parse(sub.text)])"
   ]
  },
  {
   "cell_type": "code",
   "execution_count": 3,
   "metadata": {},
   "outputs": [],
   "source": [
    "# get bi-gram count of a line\n",
    "def get_bi(parsed):\n",
    "    tmp = {}\n",
    "    b_word = ''\n",
    "    b_pos = ''\n",
    "    if len(parsed) == 1:\n",
    "        # only one text here\n",
    "        return tmp\n",
    "    else:\n",
    "        for i, word in enumerate(parsed):\n",
    "            if i == 0:\n",
    "                continue\n",
    "            b_word = '{} {}'.format(parsed[i - 1][0], word[0])\n",
    "            b_pos = parsed[i - 1][1]\n",
    "            # if the combination exist\n",
    "            if b_word in tmp and tmp[b_word]['1_pos'] == b_pos and tmp[b_word]['2_pos'] == word[1]:\n",
    "                tmp[b_word]['count'] = tmp[b_word]['count'] + 1\n",
    "            else:\n",
    "                tmp[b_word] ={\n",
    "                    '1_pos': b_pos,\n",
    "                    '2_pos': word[1],\n",
    "                    'count': 1\n",
    "                }\n",
    "    return tmp"
   ]
  },
  {
   "cell_type": "code",
   "execution_count": null,
   "metadata": {},
   "outputs": [],
   "source": [
    "# get count of each word of a line\n",
    "def get_bi(parsed):\n",
    "    tmp = {}\n",
    "    b_word = ''\n",
    "    b_pos = ''\n",
    "    if len(parsed) == 1:\n",
    "        # only one text here\n",
    "        return tmp\n",
    "    else:\n",
    "        for i, word in enumerate(parsed):\n",
    "            if i == 0:\n",
    "                continue\n",
    "            b_word = '{} {}'.format(parsed[i - 1][0], word[0])\n",
    "            b_pos = parsed[i - 1][1]\n",
    "            # if the combination exist\n",
    "            if b_word in tmp and tmp[b_word]['1_pos'] == b_pos and tmp[b_word]['2_pos'] == word[1]:\n",
    "                tmp[b_word]['count'] = tmp[b_word]['count'] + 1\n",
    "            else:\n",
    "                tmp[b_word] ={\n",
    "                    '1_pos': b_pos,\n",
    "                    '2_pos': word[1],\n",
    "                    'count': 1\n",
    "                }\n",
    "    return tmp"
   ]
  }
 ],
 "metadata": {
  "kernelspec": {
   "display_name": "Python 3",
   "language": "python",
   "name": "python3"
  },
  "language_info": {
   "codemirror_mode": {
    "name": "ipython",
    "version": 3
   },
   "file_extension": ".py",
   "mimetype": "text/x-python",
   "name": "python",
   "nbconvert_exporter": "python",
   "pygments_lexer": "ipython3",
   "version": "3.5.2"
  }
 },
 "nbformat": 4,
 "nbformat_minor": 2
}
