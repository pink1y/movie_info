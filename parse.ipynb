{
 "cells": [
  {
   "cell_type": "code",
   "execution_count": 2,
   "metadata": {},
   "outputs": [],
   "source": [
    "import os\n",
    "from os import listdir\n",
    "from os.path import isfile, join\n",
    "from opencc import OpenCC\n",
    "import pysrt\n",
    "import json\n",
    "\n",
    "# nlp \n",
    "from pycorenlp import StanfordCoreNLP\n",
    "import sys\n",
    "\n",
    "# jieba\n",
    "import jieba\n",
    "import jieba.posseg\n",
    "import jieba.analyse"
   ]
  },
  {
   "cell_type": "code",
   "execution_count": 3,
   "metadata": {},
   "outputs": [],
   "source": [
    "# transfer traditional chinese to simplified chinese\n",
    "def transfer2s(ori_str):\n",
    "    openCC = OpenCC('t2s')  # convert from Simplified Chinese to Traditional Chinese\n",
    "    return openCC.convert(ori_str)"
   ]
  },
  {
   "cell_type": "code",
   "execution_count": 4,
   "metadata": {},
   "outputs": [],
   "source": [
    "# parsed by jieba\n",
    "def parse(s):\n",
    "    tmp = transfer2s(s)\n",
    "    words = jieba.posseg.cut(s)\n",
    "    tmp = []\n",
    "    for word, flag in words:\n",
    "        tmp.append([word, flag])\n",
    "    return tmp"
   ]
  },
  {
   "cell_type": "code",
   "execution_count": 5,
   "metadata": {},
   "outputs": [],
   "source": [
    "# parse mv one by one\n",
    "def main():\n",
    "    encode = 'UTF-8'\n",
    "    with open('data/mv_list.json', 'r') as in_p:\n",
    "        mvs = json.load(in_p)\n",
    "        \n",
    "    for imdb, mv in mvs.items():\n",
    "        print(imdb + '=====')\n",
    "        if 'subs' in mvs[imdb]:\n",
    "            continue\n",
    "        mvs[imdb]['subs'] = []\n",
    "        if mv['srt_name'] != '' and mv['srt_name'] != 'unknown srt name':\n",
    "            if mv['srt_info'][2] != 0:\n",
    "                subs = pysrt.open('data/srt/{}'.format(mv['srt_name']), encoding = mv['srt_info'][2])\n",
    "            else:\n",
    "                subs = pysrt.open('data/srt/{}'.format(mv['srt_name']), encoding = encode)\n",
    "\n",
    "            for index, sub in enumerate(subs):\n",
    "                mvs[imdb]['subs'].append([sub.text, parse(sub.text)])\n",
    "    with open('data/mv_subs_parsed.json', 'w') as out_p:\n",
    "        json.dump(mvs, out_p)"
   ]
  },
  {
   "cell_type": "code",
   "execution_count": null,
   "metadata": {},
   "outputs": [],
   "source": [
    "if __name__ == '__main__':\n",
    "    main()"
   ]
  }
 ],
 "metadata": {
  "kernelspec": {
   "display_name": "Python 3",
   "language": "python",
   "name": "python3"
  },
  "language_info": {
   "codemirror_mode": {
    "name": "ipython",
    "version": 3
   },
   "file_extension": ".py",
   "mimetype": "text/x-python",
   "name": "python",
   "nbconvert_exporter": "python",
   "pygments_lexer": "ipython3",
   "version": "3.5.2"
  }
 },
 "nbformat": 4,
 "nbformat_minor": 2
}
